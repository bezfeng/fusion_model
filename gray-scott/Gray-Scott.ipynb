{
 "cells": [
  {
   "cell_type": "markdown",
   "metadata": {},
   "source": [
    "# Gray-Scott Model for Coarse-Grained Reaction-Diffusion"
   ]
  },
  {
   "cell_type": "markdown",
   "metadata": {},
   "source": [
    "In this Jupyter notebook, we will be simulating a Turing pattern generator, called the Gray-Scott Reaction-Diffusion model. Gray-Scott model is a model that has only two variables: a prey and a predator. Predator eats the prey to multiply and prey is present in the environment constantly.\n",
    "\n",
    "**NOTE**: You will need to place this file on the same level as another folder named \"*/gs_images*\". ImageIO will not always create this folder automatically, so it may need to be created manually."
   ]
  },
  {
   "cell_type": "markdown",
   "metadata": {},
   "source": [
    "The Simulate function will take in the same parameters as the Diffuse function from the diffusion tutorial, but it will also take parameters f and k corresponding to the Gray-Scott feed and kill parameters, respectively. The simulation is in fact very similar to the diffusion notebook except for a very slight change that we make by adding the feed, kill, and predator-prey reactions when we update the matrices A and B containing the concentrations of the two particles over all the cells in the grid."
   ]
  },
  {
   "cell_type": "code",
   "execution_count": null,
   "metadata": {},
   "outputs": [],
   "source": [
    "import matplotlib.pyplot as plt\n",
    "import numpy as np\n",
    "import time\n",
    "from scipy import signal\n",
    "import imageio\n",
    "\n",
    "%matplotlib inline\n",
    "\n",
    "images = []\n",
    "f_images = []\n",
    "\n",
    "def simulate(\n",
    "    numIter, \n",
    "    A, B, F, \n",
    "    rf, growth_a, growth_b, growth_f, \n",
    "    dt, dA, dB, dF, lapl, \n",
    "    plot_iter, filename):\n",
    "    '''\n",
    "    Simulate function\n",
    "    Description: Simulate the Gray-Scott model for numIter iterations.\n",
    "    Inputs:\n",
    "        - numIter:  number of iterations\n",
    "        - A:                prey matrix\n",
    "        - B:                predator matrix\n",
    "        - F:                fusion matrix\n",
    "        - rf:               rate of fusion\n",
    "        - growth_a:         growth rate of A\n",
    "        - growth_b:         growth rate of B\n",
    "        - growth_f:         growth of F\n",
    "        - dt:               time constant\n",
    "        - dA:               prey diffusion constant\n",
    "        - dB:               predator diffusion constant\n",
    "        - dF:               fusion diffusion constant\n",
    "        - lapl:             3 x 3 Laplacian matrix to calculate diffusion\n",
    "\n",
    "    Outputs:\n",
    "        - A_matrices:   Prey matrices over the course of the simulation\n",
    "        - B_matrices:   Predator matrices over the course of the simulation\n",
    "    '''\n",
    "\n",
    "    print(\"Running Simulation\")\n",
    "    start = time.time()\n",
    "\n",
    "    # Run the simulation\n",
    "    for iter in range(numIter):\n",
    "        A_new = A + (dA * signal.convolve2d(A, lapl, mode='same', boundary='fill', fillvalue=0) + (growth_a * A) - (rf * A * B)) * dt\n",
    "        B_new = B + (dB * signal.convolve2d(B, lapl, mode='same', boundary='fill', fillvalue=0) + (growth_b * B) - (rf * A * B)) * dt\n",
    "        F_new = F + (dF * signal.convolve2d(F, lapl, mode='same', boundary='fill', fillvalue=0) + (growth_f * F) + (rf * A * B)) * dt\n",
    "        A = np.copy(A_new)\n",
    "        B = np.copy(B_new)\n",
    "        F = np.copy(F_new)\n",
    "\n",
    "        A = A / A.max()\n",
    "        B = B / B.max()\n",
    "        F = F / F.max()\n",
    "\n",
    "        if (iter % plot_iter is 0):\n",
    "            plt.clf()\n",
    "            fig, axs = plt.subplots(2)\n",
    "            axs[0].imshow((B / (A+B)), cmap='Spectral')\n",
    "            axs[0].set_title('B')\n",
    "            axs[0].axis('off')\n",
    "            axs[1].imshow(F / (A+B), cmap='Spectral')\n",
    "            axs[1].set_title('F')\n",
    "            axs[1].axis('off')\n",
    "            name = filename+str(iter)+'.png'\n",
    "            plt.savefig(name)\n",
    "            images.append(imageio.imread(name))\n",
    "            plt.close()\n",
    "            \n",
    "            # plt.clf()\n",
    "            # plt.imshow((F / (A+B)),cmap='Spectral')\n",
    "            # plt.axis('off')\n",
    "            # f_name = filename+str(iter)+'_fusion.png'\n",
    "            # plt.savefig(f_name)\n",
    "            # f_images.append(imageio.imread(f_name))\n",
    "\n",
    "    print('Simulation time: ', time.time() - start)\n",
    "    \n",
    "    return A, B"
   ]
  },
  {
   "cell_type": "code",
   "execution_count": null,
   "metadata": {},
   "outputs": [],
   "source": [
    "# _*_*_*_*_*_*_*_*_* GRID PROPERTIES *_*_*_*_*_*_*_*_*_*\n",
    "grid_size = 101  # Needs to be odd\n",
    "numIter = 5000\n",
    "seed_size = 21  # Needs to be an odd number\n",
    "A = np.ones((grid_size, grid_size))\n",
    "B = np.zeros((grid_size, grid_size))\n",
    "F = np.zeros((grid_size, grid_size))\n",
    "\n",
    "# Seed the predators\n",
    "mid = int(grid_size / 2)\n",
    "seed_radius = int(seed_size / 2)\n",
    "B[mid - seed_radius:mid + seed_radius + 1,\n",
    "  mid - seed_radius:mid + seed_radius + 1] = np.ones((seed_size, seed_size))\n"
   ]
  },
  {
   "cell_type": "code",
   "execution_count": null,
   "metadata": {
    "scrolled": true
   },
   "outputs": [],
   "source": [
    "# _*_*_*_*_*_*_*_*_* SIMULATION VARIABLES *_*_*_*_*_*_*_*_*_*\n",
    "\n",
    "rf = 0.1 # Rate of fusion\n",
    "\n",
    "growth_a = 0.5\n",
    "growth_b = 1\n",
    "growth_f = 0.75\n",
    "\n",
    "dt = 1.0\n",
    "dA = 0.5\n",
    "dB = 2.0\n",
    "dF = 0.5\n",
    "\n",
    "lapl = np.array([[0.05, 0.2, 0.05], [0.2, -1.0, 0.2], [0.05, 0.2, 0.05]])\n",
    "plot_iter = 50\n",
    "\n",
    "filename = 'gs_images/f55_k117'\n",
    "\n",
    "'''\n",
    "simulate(\n",
    "    numIter, \n",
    "    A, B, F, \n",
    "    rf, growth_a, growth_b, growth_f, \n",
    "    dt, dA, dB, dF, lapl, \n",
    "    plot_iter, filename)\n",
    "'''\n",
    "\n",
    "simulate(numIter, A, B, F, rf, \n",
    "         growth_a, growth_b, growth_f, \n",
    "         dt, dA, dB, dF, lapl, plot_iter, filename)\n",
    "imageio.mimsave(filename + '.gif', images)\n"
   ]
  }
 ],
 "metadata": {
  "interpreter": {
   "hash": "aee8b7b246df8f9039afb4144a1f6fd8d2ca17a180786b69acc140d282b71a49"
  },
  "kernelspec": {
   "display_name": "Python 3.9.10 64-bit",
   "language": "python",
   "name": "python3"
  },
  "language_info": {
   "codemirror_mode": {
    "name": "ipython",
    "version": 3
   },
   "file_extension": ".py",
   "mimetype": "text/x-python",
   "name": "python",
   "nbconvert_exporter": "python",
   "pygments_lexer": "ipython3",
   "version": "3.9.10"
  }
 },
 "nbformat": 4,
 "nbformat_minor": 2
}
